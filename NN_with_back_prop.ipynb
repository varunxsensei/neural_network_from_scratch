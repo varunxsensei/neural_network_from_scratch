{
  "nbformat": 4,
  "nbformat_minor": 0,
  "metadata": {
    "colab": {
      "provenance": [],
      "gpuType": "T4",
      "authorship_tag": "ABX9TyO1woRc4aaaMYBIvVIBRjJY",
      "include_colab_link": true
    },
    "kernelspec": {
      "name": "python3",
      "display_name": "Python 3"
    },
    "language_info": {
      "name": "python"
    },
    "accelerator": "GPU"
  },
  "cells": [
    {
      "cell_type": "markdown",
      "metadata": {
        "id": "view-in-github",
        "colab_type": "text"
      },
      "source": [
        "<a href=\"https://colab.research.google.com/github/varunxsensei/neural_network_from_scratch/blob/main/NN_with_back_prop.ipynb\" target=\"_parent\"><img src=\"https://colab.research.google.com/assets/colab-badge.svg\" alt=\"Open In Colab\"/></a>"
      ]
    },
    {
      "cell_type": "code",
      "execution_count": 71,
      "metadata": {
        "id": "pIX5BrKN-d9t"
      },
      "outputs": [],
      "source": [
        "import numpy as np\n",
        "import matplotlib.pyplot as plt\n",
        "import pandas as pd"
      ]
    },
    {
      "cell_type": "code",
      "source": [
        "df = pd.read_csv('train.csv')"
      ],
      "metadata": {
        "id": "OqXEJVSs-qBJ"
      },
      "execution_count": 72,
      "outputs": []
    },
    {
      "cell_type": "code",
      "source": [
        "df.shape"
      ],
      "metadata": {
        "colab": {
          "base_uri": "https://localhost:8080/"
        },
        "id": "knXGjFq1-uTS",
        "outputId": "7b5c37d4-7cfd-419c-9e36-ad7396711510"
      },
      "execution_count": 73,
      "outputs": [
        {
          "output_type": "execute_result",
          "data": {
            "text/plain": [
              "(42000, 785)"
            ]
          },
          "metadata": {},
          "execution_count": 73
        }
      ]
    },
    {
      "cell_type": "code",
      "source": [
        "plt.imshow(df.iloc[20,1:].values.reshape(28,28))"
      ],
      "metadata": {
        "colab": {
          "base_uri": "https://localhost:8080/",
          "height": 447
        },
        "id": "689hi55Q-vNu",
        "outputId": "eab5a781-973d-41d9-a23a-3d0b76f4d798"
      },
      "execution_count": 74,
      "outputs": [
        {
          "output_type": "execute_result",
          "data": {
            "text/plain": [
              "<matplotlib.image.AxesImage at 0x7b8e0a4f5d50>"
            ]
          },
          "metadata": {},
          "execution_count": 74
        },
        {
          "output_type": "display_data",
          "data": {
            "text/plain": [
              "<Figure size 640x480 with 1 Axes>"
            ],
            "image/png": "[encoded data removed]"
          },
          "metadata": {}
        }
      ]
    },
    {
      "cell_type": "code",
      "source": [
        "df.head()"
      ],
      "metadata": {
        "colab": {
          "base_uri": "https://localhost:8080/",
          "height": 255
        },
        "id": "ps9LgV3G-738",
        "outputId": "efa9a1f0-4a72-41db-e10a-47ec36efc7e3"
      },
      "execution_count": 75,
      "outputs": [
        {
          "output_type": "execute_result",
          "data": {
            "text/plain": [
              "   label  pixel0  pixel1  pixel2  pixel3  pixel4  pixel5  pixel6  pixel7  \\\n",
              "0      1       0       0       0       0       0       0       0       0   \n",
              "1      0       0       0       0       0       0       0       0       0   \n",
              "2      1       0       0       0       0       0       0       0       0   \n",
              "3      4       0       0       0       0       0       0       0       0   \n",
              "4      0       0       0       0       0       0       0       0       0   \n",
              "\n",
              "   pixel8  ...  pixel774  pixel775  pixel776  pixel777  pixel778  pixel779  \\\n",
              "0       0  ...         0         0         0         0         0         0   \n",
              "1       0  ...         0         0         0         0         0         0   \n",
              "2       0  ...         0         0         0         0         0         0   \n",
              "3       0  ...         0         0         0         0         0         0   \n",
              "4       0  ...         0         0         0         0         0         0   \n",
              "\n",
              "   pixel780  pixel781  pixel782  pixel783  \n",
              "0         0         0         0         0  \n",
              "1         0         0         0         0  \n",
              "2         0         0         0         0  \n",
              "3         0         0         0         0  \n",
              "4         0         0         0         0  \n",
              "\n",
              "[5 rows x 785 columns]"
            ],
            "text/html": [
              "\n",
              "  <div id=\"df-ff650039-cfbc-4465-b8da-f010b27174df\" class=\"colab-df-container\">\n",
              "    <div>\n",
              "<style scoped>\n",
              "    .dataframe tbody tr th:only-of-type {\n",
              "        vertical-align: middle;\n",
              "    }\n",
              "\n",
              "    .dataframe tbody tr th {\n",
              "        vertical-align: top;\n",
              "    }\n",
              "\n",
              "    .dataframe thead th {\n",
              "        text-align: right;\n",
              "    }\n",
              "</style>\n",
              "<table border=\"1\" class=\"dataframe\">\n",
              "  <thead>\n",
              "    <tr style=\"text-align: right;\">\n",
              "      <th></th>\n",
              "      <th>label</th>\n",
              "      <th>pixel0</th>\n",
              "      <th>pixel1</th>\n",
              "      <th>pixel2</th>\n",
              "      <th>pixel3</th>\n",
              "      <th>pixel4</th>\n",
              "      <th>pixel5</th>\n",
              "      <th>pixel6</th>\n",
              "      <th>pixel7</th>\n",
              "      <th>pixel8</th>\n",
              "      <th>...</th>\n",
              "      <th>pixel774</th>\n",
              "      <th>pixel775</th>\n",
              "      <th>pixel776</th>\n",
              "      <th>pixel777</th>\n",
              "      <th>pixel778</th>\n",
              "      <th>pixel779</th>\n",
              "      <th>pixel780</th>\n",
              "      <th>pixel781</th>\n",
              "      <th>pixel782</th>\n",
              "      <th>pixel783</th>\n",
              "    </tr>\n",
              "  </thead>\n",
              "  <tbody>\n",
              "    <tr>\n",
              "      <th>0</th>\n",
              "      <td>1</td>\n",
              "      <td>0</td>\n",
              "      <td>0</td>\n",
              "      <td>0</td>\n",
              "      <td>0</td>\n",
              "      <td>0</td>\n",
              "      <td>0</td>\n",
              "      <td>0</td>\n",
              "      <td>0</td>\n",
              "      <td>0</td>\n",
              "      <td>...</td>\n",
              "      <td>0</td>\n",
              "      <td>0</td>\n",
              "      <td>0</td>\n",
              "      <td>0</td>\n",
              "      <td>0</td>\n",
              "      <td>0</td>\n",
              "      <td>0</td>\n",
              "      <td>0</td>\n",
              "      <td>0</td>\n",
              "      <td>0</td>\n",
              "    </tr>\n",
              "    <tr>\n",
              "      <th>1</th>\n",
              "      <td>0</td>\n",
              "      <td>0</td>\n",
              "      <td>0</td>\n",
              "      <td>0</td>\n",
              "      <td>0</td>\n",
              "      <td>0</td>\n",
              "      <td>0</td>\n",
              "      <td>0</td>\n",
              "      <td>0</td>\n",
              "      <td>0</td>\n",
              "      <td>...</td>\n",
              "      <td>0</td>\n",
              "      <td>0</td>\n",
              "      <td>0</td>\n",
              "      <td>0</td>\n",
              "      <td>0</td>\n",
              "      <td>0</td>\n",
              "      <td>0</td>\n",
              "      <td>0</td>\n",
              "      <td>0</td>\n",
              "      <td>0</td>\n",
              "    </tr>\n",
              "    <tr>\n",
              "      <th>2</th>\n",
              "      <td>1</td>\n",
              "      <td>0</td>\n",
              "      <td>0</td>\n",
              "      <td>0</td>\n",
              "      <td>0</td>\n",
              "      <td>0</td>\n",
              "      <td>0</td>\n",
              "      <td>0</td>\n",
              "      <td>0</td>\n",
              "      <td>0</td>\n",
              "      <td>...</td>\n",
              "      <td>0</td>\n",
              "      <td>0</td>\n",
              "      <td>0</td>\n",
              "      <td>0</td>\n",
              "      <td>0</td>\n",
              "      <td>0</td>\n",
              "      <td>0</td>\n",
              "      <td>0</td>\n",
              "      <td>0</td>\n",
              "      <td>0</td>\n",
              "    </tr>\n",
              "    <tr>\n",
              "      <th>3</th>\n",
              "      <td>4</td>\n",
              "      <td>0</td>\n",
              "      <td>0</td>\n",
              "      <td>0</td>\n",
              "      <td>0</td>\n",
              "      <td>0</td>\n",
              "      <td>0</td>\n",
              "      <td>0</td>\n",
              "      <td>0</td>\n",
              "      <td>0</td>\n",
              "      <td>...</td>\n",
              "      <td>0</td>\n",
              "      <td>0</td>\n",
              "      <td>0</td>\n",
              "      <td>0</td>\n",
              "      <td>0</td>\n",
              "      <td>0</td>\n",
              "      <td>0</td>\n",
              "      <td>0</td>\n",
              "      <td>0</td>\n",
              "      <td>0</td>\n",
              "    </tr>\n",
              "    <tr>\n",
              "      <th>4</th>\n",
              "      <td>0</td>\n",
              "      <td>0</td>\n",
              "      <td>0</td>\n",
              "      <td>0</td>\n",
              "      <td>0</td>\n",
              "      <td>0</td>\n",
              "      <td>0</td>\n",
              "      <td>0</td>\n",
              "      <td>0</td>\n",
              "      <td>0</td>\n",
              "      <td>...</td>\n",
              "      <td>0</td>\n",
              "      <td>0</td>\n",
              "      <td>0</td>\n",
              "      <td>0</td>\n",
              "      <td>0</td>\n",
              "      <td>0</td>\n",
              "      <td>0</td>\n",
              "      <td>0</td>\n",
              "      <td>0</td>\n",
              "      <td>0</td>\n",
              "    </tr>\n",
              "  </tbody>\n",
              "</table>\n",
              "<p>5 rows × 785 columns</p>\n",
              "</div>\n",
              "    <div class=\"colab-df-buttons\">\n",
              "\n",
              "  <div class=\"colab-df-container\">\n",
              "    <button class=\"colab-df-convert\" onclick=\"convertToInteractive('df-ff650039-cfbc-4465-b8da-f010b27174df')\"\n",
              "            title=\"Convert this dataframe to an interactive table.\"\n",
              "            style=\"display:none;\">\n",
              "\n",
              "  <svg xmlns=\"http://www.w3.org/2000/svg\" height=\"24px\" viewBox=\"0 -960 960 960\">\n",
              "    <path d=\"M120-120v-720h720v720H120Zm60-500h600v-160H180v160Zm220 220h160v-160H400v160Zm0 220h160v-160H400v160ZM180-400h160v-160H180v160Zm440 0h160v-160H620v160ZM180-180h160v-160H180v160Zm440 0h160v-160H620v160Z\"/>\n",
              "  </svg>\n",
              "    </button>\n",
              "\n",
              "  <style>\n",
              "    .colab-df-container {\n",
              "      display:flex;\n",
              "      gap: 12px;\n",
              "    }\n",
              "\n",
              "    .colab-df-convert {\n",
              "      background-color: #E8F0FE;\n",
              "      border: none;\n",
              "      border-radius: 50%;\n",
              "      cursor: pointer;\n",
              "      display: none;\n",
              "      fill: #1967D2;\n",
              "      height: 32px;\n",
              "      padding: 0 0 0 0;\n",
              "      width: 32px;\n",
              "    }\n",
              "\n",
              "    .colab-df-convert:hover {\n",
              "      background-color: #E2EBFA;\n",
              "      box-shadow: 0px 1px 2px rgba(60, 64, 67, 0.3), 0px 1px 3px 1px rgba(60, 64, 67, 0.15);\n",
              "      fill: #174EA6;\n",
              "    }\n",
              "\n",
              "    .colab-df-buttons div {\n",
              "      margin-bottom: 4px;\n",
              "    }\n",
              "\n",
              "    [theme=dark] .colab-df-convert {\n",
              "      background-color: #3B4455;\n",
              "      fill: #D2E3FC;\n",
              "    }\n",
              "\n",
              "    [theme=dark] .colab-df-convert:hover {\n",
              "      background-color: #434B5C;\n",
              "      box-shadow: 0px 1px 3px 1px rgba(0, 0, 0, 0.15);\n",
              "      filter: drop-shadow(0px 1px 2px rgba(0, 0, 0, 0.3));\n",
              "      fill: #FFFFFF;\n",
              "    }\n",
              "  </style>\n",
              "\n",
              "    <script>\n",
              "      const buttonEl =\n",
              "        document.querySelector('#df-ff650039-cfbc-4465-b8da-f010b27174df button.colab-df-convert');\n",
              "      buttonEl.style.display =\n",
              "        google.colab.kernel.accessAllowed ? 'block' : 'none';\n",
              "\n",
              "      async function convertToInteractive(key) {\n",
              "        const element = document.querySelector('#df-ff650039-cfbc-4465-b8da-f010b27174df');\n",
              "        const dataTable =\n",
              "          await google.colab.kernel.invokeFunction('convertToInteractive',\n",
              "                                                    [key], {});\n",
              "        if (!dataTable) return;\n",
              "\n",
              "        const docLinkHtml = 'Like what you see? Visit the ' +\n",
              "          '<a target=\"_blank\" href=https://colab.research.google.com/notebooks/data_table.ipynb>data table notebook</a>'\n",
              "          + ' to learn more about interactive tables.';\n",
              "        element.innerHTML = '';\n",
              "        dataTable['output_type'] = 'display_data';\n",
              "        await google.colab.output.renderOutput(dataTable, element);\n",
              "        const docLink = document.createElement('div');\n",
              "        docLink.innerHTML = docLinkHtml;\n",
              "        element.appendChild(docLink);\n",
              "      }\n",
              "    </script>\n",
              "  </div>\n",
              "\n",
              "\n",
              "    <div id=\"df-e1bcf706-2012-4af4-9d2d-7a3eae6860ad\">\n",
              "      <button class=\"colab-df-quickchart\" onclick=\"quickchart('df-e1bcf706-2012-4af4-9d2d-7a3eae6860ad')\"\n",
              "                title=\"Suggest charts\"\n",
              "                style=\"display:none;\">\n",
              "\n",
              "<svg xmlns=\"http://www.w3.org/2000/svg\" height=\"24px\"viewBox=\"0 0 24 24\"\n",
              "     width=\"24px\">\n",
              "    <g>\n",
              "        <path d=\"M19 3H5c-1.1 0-2 .9-2 2v14c0 1.1.9 2 2 2h14c1.1 0 2-.9 2-2V5c0-1.1-.9-2-2-2zM9 17H7v-7h2v7zm4 0h-2V7h2v10zm4 0h-2v-4h2v4z\"/>\n",
              "    </g>\n",
              "</svg>\n",
              "      </button>\n",
              "\n",
              "<style>\n",
              "  .colab-df-quickchart {\n",
              "      --bg-color: #E8F0FE;\n",
              "      --fill-color: #1967D2;\n",
              "      --hover-bg-color: #E2EBFA;\n",
              "      --hover-fill-color: #174EA6;\n",
              "      --disabled-fill-color: #AAA;\n",
              "      --disabled-bg-color: #DDD;\n",
              "  }\n",
              "\n",
              "  [theme=dark] .colab-df-quickchart {\n",
              "      --bg-color: #3B4455;\n",
              "      --fill-color: #D2E3FC;\n",
              "      --hover-bg-color: #434B5C;\n",
              "      --hover-fill-color: #FFFFFF;\n",
              "      --disabled-bg-color: #3B4455;\n",
              "      --disabled-fill-color: #666;\n",
              "  }\n",
              "\n",
              "  .colab-df-quickchart {\n",
              "    background-color: var(--bg-color);\n",
              "    border: none;\n",
              "    border-radius: 50%;\n",
              "    cursor: pointer;\n",
              "    display: none;\n",
              "    fill: var(--fill-color);\n",
              "    height: 32px;\n",
              "    padding: 0;\n",
              "    width: 32px;\n",
              "  }\n",
              "\n",
              "  .colab-df-quickchart:hover {\n",
              "    background-color: var(--hover-bg-color);\n",
              "    box-shadow: 0 1px 2px rgba(60, 64, 67, 0.3), 0 1px 3px 1px rgba(60, 64, 67, 0.15);\n",
              "    fill: var(--button-hover-fill-color);\n",
              "  }\n",
              "\n",
              "  .colab-df-quickchart-complete:disabled,\n",
              "  .colab-df-quickchart-complete:disabled:hover {\n",
              "    background-color: var(--disabled-bg-color);\n",
              "    fill: var(--disabled-fill-color);\n",
              "    box-shadow: none;\n",
              "  }\n",
              "\n",
              "  .colab-df-spinner {\n",
              "    border: 2px solid var(--fill-color);\n",
              "    border-color: transparent;\n",
              "    border-bottom-color: var(--fill-color);\n",
              "    animation:\n",
              "      spin 1s steps(1) infinite;\n",
              "  }\n",
              "\n",
              "  @keyframes spin {\n",
              "    0% {\n",
              "      border-color: transparent;\n",
              "      border-bottom-color: var(--fill-color);\n",
              "      border-left-color: var(--fill-color);\n",
              "    }\n",
              "    20% {\n",
              "      border-color: transparent;\n",
              "      border-left-color: var(--fill-color);\n",
              "      border-top-color: var(--fill-color);\n",
              "    }\n",
              "    30% {\n",
              "      border-color: transparent;\n",
              "      border-left-color: var(--fill-color);\n",
              "      border-top-color: var(--fill-color);\n",
              "      border-right-color: var(--fill-color);\n",
              "    }\n",
              "    40% {\n",
              "      border-color: transparent;\n",
              "      border-right-color: var(--fill-color);\n",
              "      border-top-color: var(--fill-color);\n",
              "    }\n",
              "    60% {\n",
              "      border-color: transparent;\n",
              "      border-right-color: var(--fill-color);\n",
              "    }\n",
              "    80% {\n",
              "      border-color: transparent;\n",
              "      border-right-color: var(--fill-color);\n",
              "      border-bottom-color: var(--fill-color);\n",
              "    }\n",
              "    90% {\n",
              "      border-color: transparent;\n",
              "      border-bottom-color: var(--fill-color);\n",
              "    }\n",
              "  }\n",
              "</style>\n",
              "\n",
              "      <script>\n",
              "        async function quickchart(key) {\n",
              "          const quickchartButtonEl =\n",
              "            document.querySelector('#' + key + ' button');\n",
              "          quickchartButtonEl.disabled = true;  // To prevent multiple clicks.\n",
              "          quickchartButtonEl.classList.add('colab-df-spinner');\n",
              "          try {\n",
              "            const charts = await google.colab.kernel.invokeFunction(\n",
              "                'suggestCharts', [key], {});\n",
              "          } catch (error) {\n",
              "            console.error('Error during call to suggestCharts:', error);\n",
              "          }\n",
              "          quickchartButtonEl.classList.remove('colab-df-spinner');\n",
              "          quickchartButtonEl.classList.add('colab-df-quickchart-complete');\n",
              "        }\n",
              "        (() => {\n",
              "          let quickchartButtonEl =\n",
              "            document.querySelector('#df-e1bcf706-2012-4af4-9d2d-7a3eae6860ad button');\n",
              "          quickchartButtonEl.style.display =\n",
              "            google.colab.kernel.accessAllowed ? 'block' : 'none';\n",
              "        })();\n",
              "      </script>\n",
              "    </div>\n",
              "\n",
              "    </div>\n",
              "  </div>\n"
            ],
            "application/vnd.google.colaboratory.intrinsic+json": {
              "type": "dataframe",
              "variable_name": "df"
            }
          },
          "metadata": {},
          "execution_count": 75
        }
      ]
    },
    {
      "cell_type": "code",
      "source": [
        "data = np.array(df)"
      ],
      "metadata": {
        "id": "MKWJAfke_Eys"
      },
      "execution_count": 76,
      "outputs": []
    },
    {
      "cell_type": "code",
      "source": [
        "m,n = data.shape"
      ],
      "metadata": {
        "id": "dZR-3-Gu_MpL"
      },
      "execution_count": 77,
      "outputs": []
    },
    {
      "cell_type": "code",
      "source": [
        "print(f\"Rows {m}, columns {n}\")"
      ],
      "metadata": {
        "colab": {
          "base_uri": "https://localhost:8080/"
        },
        "id": "BKsyF7wY_OBA",
        "outputId": "0b389384-1346-4e7b-e5f5-220354ba0a4d"
      },
      "execution_count": 78,
      "outputs": [
        {
          "output_type": "stream",
          "name": "stdout",
          "text": [
            "Rows 42000, columns 785\n"
          ]
        }
      ]
    },
    {
      "cell_type": "code",
      "source": [
        "np.random.shuffle(data)"
      ],
      "metadata": {
        "id": "pYW2J2RH_g5t"
      },
      "execution_count": 79,
      "outputs": []
    },
    {
      "cell_type": "code",
      "source": [
        "data_dev = data[0:1000].T"
      ],
      "metadata": {
        "id": "Y1CCpHgl_0a_"
      },
      "execution_count": 80,
      "outputs": []
    },
    {
      "cell_type": "code",
      "source": [
        "y_dev = data_dev[0]\n",
        "X_dev = data_dev[1:n]\n",
        "X_dev = X_dev/255"
      ],
      "metadata": {
        "id": "dzVaiNbS_3BS"
      },
      "execution_count": 81,
      "outputs": []
    },
    {
      "cell_type": "code",
      "source": [
        "data_train = data[1000:m].T\n",
        "y_train = data_train[0]\n",
        "X_train = data_train[1:n]\n",
        "X_train = X_train / 255."
      ],
      "metadata": {
        "id": "_1sgN0wgAHFf"
      },
      "execution_count": 82,
      "outputs": []
    },
    {
      "cell_type": "code",
      "source": [
        "X_train.shape"
      ],
      "metadata": {
        "colab": {
          "base_uri": "https://localhost:8080/"
        },
        "id": "fvFEVmCYCb8-",
        "outputId": "2a19917f-c771-4368-829e-8e5b90f55e7d"
      },
      "execution_count": 83,
      "outputs": [
        {
          "output_type": "execute_result",
          "data": {
            "text/plain": [
              "(784, 41000)"
            ]
          },
          "metadata": {},
          "execution_count": 83
        }
      ]
    },
    {
      "cell_type": "code",
      "source": [
        "def init_params():\n",
        "    W1 = np.random.rand(10, 784) - 0.5\n",
        "    b1 = np.random.rand(10, 1) - 0.5\n",
        "    W2 = np.random.rand(10, 10) - 0.5\n",
        "    b2 = np.random.rand(10, 1) - 0.5\n",
        "    return W1, b1, W2, b2\n",
        "\n",
        "def ReLU(Z):\n",
        "    return np.maximum(0,Z)\n",
        "\n",
        "def softmax(Z):\n",
        "    exp_vals = np.exp(Z - np.max(Z, axis=0, keepdims=True))\n",
        "    return exp_vals / np.sum(exp_vals, axis=0, keepdims=True)\n",
        "\n",
        "\n",
        "\n",
        "def forward_prop(W1,b1,W2,b2,X):\n",
        "    Z1 = np.dot(W1,X) + b1\n",
        "    A1 = ReLU(Z1)\n",
        "    Z2 = np.dot(W2,A1) + b2\n",
        "    A2 = softmax(Z2)\n",
        "    return Z1,A1,Z2,A2\n",
        "\n",
        "def one_hot(y):\n",
        "    one_hot_Y = np.zeros((y.size, y.max() + 1))\n",
        "    one_hot_Y[np.arange(y.size), y] = 1\n",
        "    one_hot_Y = one_hot_Y.T\n",
        "    return one_hot_Y\n",
        "\n",
        "\n",
        "def ReLU_derivative(Z):\n",
        "  return Z > 0\n",
        "\n",
        "\n",
        "def back_prop(Z1, A1, Z2, A2, W2, X, y):\n",
        "    m = X.shape[1]\n",
        "    one_hot_Y = one_hot(y)\n",
        "    dZ2 = A2 - one_hot_Y\n",
        "    dW2 = np.dot(dZ2, A1.T) / m\n",
        "    db2 = np.sum(dZ2, axis=1, keepdims=True) / m\n",
        "    dZ1 = np.dot(W2.T, dZ2) * ReLU_derivative(Z1)\n",
        "    dW1 = np.dot(dZ1, X.T) / m\n",
        "    db1 = np.sum(dZ1, axis=1, keepdims=True) / m\n",
        "    return dW1, db1, dW2, db2\n",
        "\n",
        "\n",
        "def update_params(W1,b1,W2,b2,dW1,db1,dW2,db2,alpha):\n",
        "  W1 = W1 - alpha*dW1\n",
        "  b1 = b1 - alpha*db1\n",
        "  W2 = W2 - alpha*dW2\n",
        "  b2 = b2 - alpha*db2\n",
        "  return W1,b1,W2,b2\n"
      ],
      "metadata": {
        "id": "s9DbDj-IAuHn"
      },
      "execution_count": 84,
      "outputs": []
    },
    {
      "cell_type": "code",
      "source": [
        "def get_predictions(A2):\n",
        "  return np.argmax(A2,0)\n",
        "\n",
        "def get_accuracy(predictions,y):\n",
        "  print(predictions,y)\n",
        "  return np.sum(predictions==y)/y.size\n",
        "\n",
        "def gradient_descent(X,y,iterations,alpha):\n",
        "  W1,b1,W2,b2 = init_params()\n",
        "  for i in range(iterations):\n",
        "    Z1,A1,Z2,A2 = forward_prop(W1,b1,W2,b2,X)\n",
        "    dW1,db1,dW2,db2 = back_prop(Z1,A1,Z2,A2,W2,X,y)\n",
        "    W1,b1,W2,b2 = update_params(W1,b1,W2,b2,dW1,db1,dW2,db2,alpha)\n",
        "    if i%50 == 0:\n",
        "      print(\"Iteration: \", i)\n",
        "      predictions = get_predictions(A2)\n",
        "      print(get_accuracy(predictions, y))\n",
        "  return W1,b1,W2,b2"
      ],
      "metadata": {
        "id": "L01LcZoWDi4A"
      },
      "execution_count": 86,
      "outputs": []
    },
    {
      "cell_type": "code",
      "source": [
        "W1,b1,W2,b2 = gradient_descent(X_train,y_train,1000,0.05)"
      ],
      "metadata": {
        "colab": {
          "base_uri": "https://localhost:8080/"
        },
        "id": "GqHLmLd_JFch",
        "outputId": "6855fb00-458b-4137-c21f-28495c56b85e"
      },
      "execution_count": 92,
      "outputs": [
        {
          "output_type": "stream",
          "name": "stdout",
          "text": [
            "Iteration:  0\n",
            "[4 4 7 ... 9 0 4] [6 6 1 ... 3 8 2]\n",
            "0.10378048780487804\n",
            "Iteration:  50\n",
            "[2 2 1 ... 7 5 4] [6 6 1 ... 3 8 2]\n",
            "0.2966829268292683\n",
            "Iteration:  100\n",
            "[2 6 1 ... 3 5 4] [6 6 1 ... 3 8 2]\n",
            "0.41909756097560974\n",
            "Iteration:  150\n",
            "[6 6 1 ... 3 3 6] [6 6 1 ... 3 8 2]\n",
            "0.511609756097561\n",
            "Iteration:  200\n",
            "[6 6 1 ... 3 3 6] [6 6 1 ... 3 8 2]\n",
            "0.5767317073170731\n",
            "Iteration:  250\n",
            "[6 6 1 ... 3 3 6] [6 6 1 ... 3 8 2]\n",
            "0.6296829268292683\n",
            "Iteration:  300\n",
            "[6 6 1 ... 3 3 6] [6 6 1 ... 3 8 2]\n",
            "0.6671707317073171\n",
            "Iteration:  350\n",
            "[6 6 1 ... 3 3 6] [6 6 1 ... 3 8 2]\n",
            "0.6976829268292682\n",
            "Iteration:  400\n",
            "[6 6 1 ... 3 3 6] [6 6 1 ... 3 8 2]\n",
            "0.721609756097561\n",
            "Iteration:  450\n",
            "[6 6 1 ... 3 3 2] [6 6 1 ... 3 8 2]\n",
            "0.7418536585365854\n",
            "Iteration:  500\n",
            "[6 6 1 ... 3 3 2] [6 6 1 ... 3 8 2]\n",
            "0.7591463414634146\n",
            "Iteration:  550\n",
            "[6 6 1 ... 3 3 2] [6 6 1 ... 3 8 2]\n",
            "0.7722439024390244\n",
            "Iteration:  600\n",
            "[6 6 1 ... 3 8 2] [6 6 1 ... 3 8 2]\n",
            "0.7846829268292683\n",
            "Iteration:  650\n",
            "[6 6 1 ... 3 8 2] [6 6 1 ... 3 8 2]\n",
            "0.7941219512195122\n",
            "Iteration:  700\n",
            "[6 6 1 ... 3 8 2] [6 6 1 ... 3 8 2]\n",
            "0.8027804878048781\n",
            "Iteration:  750\n",
            "[6 6 1 ... 3 8 2] [6 6 1 ... 3 8 2]\n",
            "0.8099024390243903\n",
            "Iteration:  800\n",
            "[6 6 1 ... 3 8 2] [6 6 1 ... 3 8 2]\n",
            "0.8160975609756097\n",
            "Iteration:  850\n",
            "[6 6 1 ... 3 8 2] [6 6 1 ... 3 8 2]\n",
            "0.8215853658536585\n",
            "Iteration:  900\n",
            "[6 6 1 ... 3 8 2] [6 6 1 ... 3 8 2]\n",
            "0.8257317073170731\n",
            "Iteration:  950\n",
            "[6 6 1 ... 3 8 2] [6 6 1 ... 3 8 2]\n",
            "0.8299268292682926\n"
          ]
        }
      ]
    },
    {
      "cell_type": "code",
      "source": [
        "# Forward pass on dev set\n",
        "Z1_dev, A1_dev, Z2_dev, A2_dev = forward_prop(W1, b1, W2, b2, X_dev)\n",
        "\n",
        "# Get predictions\n",
        "predictions_dev = get_predictions(A2_dev)\n",
        "\n",
        "# Compute accuracy\n",
        "accuracy_dev = get_accuracy(predictions_dev, y_dev)\n",
        "print(\"Dev Set Accuracy:\", accuracy_dev)\n"
      ],
      "metadata": {
        "colab": {
          "base_uri": "https://localhost:8080/"
        },
        "id": "NobjmPo2KNnt",
        "outputId": "608200ed-daca-45ea-a949-679fb3361b5d"
      },
      "execution_count": 93,
      "outputs": [
        {
          "output_type": "stream",
          "name": "stdout",
          "text": [
            "[0 4 7 8 9 3 9 3 3 9 1 2 3 0 8 7 7 7 8 7 0 0 8 5 7 8 8 7 3 9 9 1 0 3 7 1 4\n",
            " 7 3 2 7 1 9 1 5 1 1 3 1 0 3 9 6 0 0 9 2 1 8 9 4 0 5 8 1 8 1 7 4 6 0 2 4 5\n",
            " 5 8 5 4 0 4 3 9 8 5 6 6 3 2 4 6 5 0 1 9 8 0 0 4 8 0 3 3 0 1 1 2 6 1 7 4 9\n",
            " 0 0 2 0 1 1 3 9 0 1 6 3 0 0 2 9 9 6 4 6 6 8 5 4 1 6 9 9 4 1 0 5 4 4 6 8 2\n",
            " 3 0 7 2 9 3 4 9 8 7 7 3 1 3 1 0 7 1 8 5 2 6 9 9 5 6 1 7 5 1 4 2 6 7 5 2 4\n",
            " 9 3 4 9 5 1 3 7 3 9 0 7 6 8 4 8 2 1 5 8 4 7 7 8 9 7 3 7 3 0 2 7 4 9 1 0 5\n",
            " 0 1 6 3 3 1 4 1 1 8 6 1 7 6 2 0 3 1 9 6 7 2 0 2 6 2 8 6 9 9 3 8 1 2 8 8 7\n",
            " 1 3 6 2 7 3 5 7 0 3 2 9 6 6 0 1 9 6 2 0 3 4 6 2 6 9 5 4 8 2 6 8 5 7 4 5 6\n",
            " 3 3 4 4 8 7 9 4 8 9 9 7 7 4 9 3 6 2 6 8 4 4 5 4 9 5 2 9 7 7 1 7 3 7 5 6 8\n",
            " 8 4 4 3 1 9 5 4 0 0 8 2 6 4 7 5 1 2 1 7 9 9 8 5 1 3 0 3 9 5 1 7 9 6 9 7 8\n",
            " 2 6 0 9 5 1 6 0 3 0 9 6 6 8 3 7 1 3 3 0 5 8 7 2 7 4 1 3 2 5 6 1 0 3 3 1 6\n",
            " 2 2 0 7 7 7 8 9 0 8 7 1 9 6 3 3 5 7 8 9 3 8 7 4 3 9 7 1 9 3 7 0 3 0 0 0 2\n",
            " 9 2 9 5 9 8 6 4 0 4 0 1 9 5 3 1 0 0 9 4 6 8 1 4 9 9 3 5 8 0 0 1 6 0 5 8 1\n",
            " 7 7 2 3 1 3 8 8 5 4 6 4 8 8 7 3 0 3 4 8 9 7 0 9 9 8 5 4 6 5 4 1 4 2 9 4 1\n",
            " 2 4 5 7 6 0 4 9 2 5 6 9 4 7 0 1 0 7 3 5 9 7 7 9 0 2 8 6 4 9 3 6 4 1 2 8 8\n",
            " 7 3 6 2 5 5 4 1 2 7 5 1 1 3 7 2 2 8 8 3 4 4 8 9 6 2 9 6 7 7 8 6 7 2 7 3 6\n",
            " 0 2 6 2 3 9 7 2 7 7 4 7 8 1 5 0 3 6 3 6 5 8 3 1 8 8 6 9 8 6 1 4 6 8 0 6 3\n",
            " 5 4 9 1 9 3 2 4 6 4 6 0 8 5 1 1 5 7 0 6 8 3 8 6 6 0 2 1 6 1 2 5 7 5 1 8 3\n",
            " 4 9 8 5 5 7 5 2 0 9 7 4 5 9 1 0 3 2 4 8 9 1 7 9 4 3 3 5 2 2 4 8 0 0 4 2 6\n",
            " 6 1 0 9 4 5 4 5 2 2 2 3 0 5 2 1 4 3 2 8 2 8 1 4 3 4 4 9 1 1 8 2 7 0 3 3 3\n",
            " 4 5 9 9 7 8 9 8 7 3 4 6 5 7 5 5 6 2 6 9 9 1 0 9 4 0 4 9 9 4 7 7 8 1 1 8 1\n",
            " 1 0 6 6 7 0 4 9 1 8 1 4 7 2 0 1 7 2 2 7 7 3 0 1 1 4 5 1 3 7 7 8 6 5 9 9 1\n",
            " 6 0 7 0 1 5 3 2 5 6 9 4 0 0 7 1 0 7 0 3 1 9 6 7 7 0 8 7 3 4 9 6 4 2 6 4 7\n",
            " 9 7 5 7 2 8 3 3 8 9 3 6 3 9 5 5 0 5 9 7 0 2 3 6 7 2 3 5 5 9 1 1 7 0 0 2 7\n",
            " 8 9 7 6 6 8 8 2 0 0 8 9 4 9 7 7 6 8 2 7 7 2 1 0 4 7 1 1 4 5 3 1 8 1 2 1 2\n",
            " 4 1 4 5 1 3 9 4 2 2 9 8 5 3 6 9 8 2 6 2 4 5 9 5 6 1 0 2 0 4 7 7 0 3 4 5 6\n",
            " 5 6 3 8 9 9 2 8 2 7 4 5 5 2 7 4 9 1 9 7 2 0 9 4 9 4 4 6 5 6 0 2 1 5 0 7 3\n",
            " 0] [0 4 7 8 9 3 7 8 3 9 1 2 3 0 5 7 7 7 8 7 0 0 8 5 9 8 8 7 3 9 8 1 0 5 7 1 9\n",
            " 3 5 2 7 1 9 2 5 1 1 3 1 0 8 9 6 0 0 9 1 9 8 9 4 0 5 5 1 2 1 7 4 6 0 2 4 5\n",
            " 8 8 5 9 8 4 3 9 8 5 6 6 3 2 9 6 5 0 1 9 8 0 0 4 8 0 3 3 0 1 1 2 6 1 7 4 9\n",
            " 0 0 2 0 1 1 3 9 0 1 6 3 0 0 2 8 9 6 4 2 6 5 5 4 1 6 9 9 4 1 0 8 4 4 6 8 2\n",
            " 3 0 7 2 9 3 4 9 8 2 7 3 1 3 1 0 7 1 9 5 6 6 9 9 5 6 1 7 5 1 4 2 6 7 5 8 5\n",
            " 9 3 4 9 8 1 3 7 3 9 0 7 6 1 4 8 2 1 5 2 4 7 7 8 9 7 8 7 3 0 2 7 4 9 7 0 5\n",
            " 0 1 6 3 3 1 4 1 1 8 6 1 7 6 2 0 3 1 9 6 7 2 0 2 2 2 8 4 9 9 3 8 1 2 8 8 7\n",
            " 1 3 6 2 7 3 5 7 0 3 2 9 4 6 0 1 9 6 2 0 3 5 6 3 5 7 5 4 8 2 6 9 5 7 4 5 6\n",
            " 3 3 4 6 8 7 9 4 5 9 7 7 7 4 3 3 6 2 6 8 4 2 5 4 9 5 2 5 7 7 1 7 3 7 5 6 8\n",
            " 2 4 4 3 1 8 8 4 0 0 8 2 6 4 7 5 1 2 1 7 7 9 8 3 1 3 0 3 9 5 1 7 9 6 9 7 7\n",
            " 0 6 0 9 5 1 6 0 2 0 9 6 6 8 3 7 1 3 3 0 3 8 7 2 7 4 5 3 2 5 6 1 0 3 5 1 6\n",
            " 2 2 0 7 7 7 8 7 0 8 9 1 4 5 3 3 5 9 8 8 2 8 7 4 8 7 2 8 9 3 3 0 3 0 0 0 2\n",
            " 9 2 9 3 9 8 6 4 0 4 0 1 9 5 3 1 0 0 9 4 6 8 1 4 9 9 3 8 8 0 0 1 6 2 5 8 1\n",
            " 9 7 2 3 1 3 8 8 5 6 6 9 8 1 9 3 0 8 4 2 9 7 0 9 9 8 5 9 6 5 4 1 4 2 9 4 1\n",
            " 2 4 5 7 6 3 9 9 2 2 6 9 4 9 0 2 0 7 3 5 9 7 3 9 0 2 8 6 4 4 8 6 4 1 2 8 5\n",
            " 7 3 6 2 3 5 4 1 2 3 5 1 1 3 4 2 2 5 2 3 4 4 8 9 6 2 3 5 7 7 8 6 7 2 7 2 6\n",
            " 0 2 6 2 3 7 7 6 7 7 9 7 8 1 5 0 3 6 3 6 5 8 3 1 8 8 6 9 8 6 1 4 6 8 0 6 3\n",
            " 5 4 9 1 9 5 2 4 6 4 6 0 6 5 1 7 5 7 0 6 0 3 8 6 4 0 2 1 6 1 2 3 3 5 1 8 3\n",
            " 4 7 8 0 0 7 5 2 0 9 3 4 5 9 1 0 3 3 4 8 4 1 7 9 4 8 3 3 2 3 4 2 0 6 4 2 6\n",
            " 6 1 6 9 4 5 4 5 2 2 2 2 0 5 2 1 4 3 2 2 1 8 1 4 8 4 4 4 1 1 8 2 7 0 3 3 3\n",
            " 7 0 9 9 7 1 9 8 7 3 4 6 5 7 5 3 6 8 6 9 9 1 0 9 4 0 4 9 7 2 7 7 8 1 1 9 1\n",
            " 1 0 6 6 7 0 4 9 1 8 1 4 7 2 0 1 7 2 2 7 7 3 0 1 1 4 5 1 3 7 7 8 6 5 9 9 1\n",
            " 6 0 7 0 1 5 3 2 3 8 9 4 0 0 7 1 0 7 0 3 1 9 0 9 7 2 8 7 3 4 9 6 4 2 6 9 7\n",
            " 9 7 8 7 2 8 3 3 8 9 3 6 3 9 5 8 0 2 9 7 0 8 3 5 9 2 3 3 5 9 1 1 3 0 0 3 7\n",
            " 8 9 7 6 6 5 9 2 0 0 2 9 2 4 7 7 6 8 2 7 7 2 5 5 4 7 1 1 4 5 0 1 7 1 2 1 2\n",
            " 9 1 4 5 1 5 9 4 2 2 7 8 5 9 5 9 8 2 6 2 4 8 4 5 6 5 0 2 0 4 7 9 0 3 9 5 6\n",
            " 5 6 3 8 9 9 2 8 2 7 4 5 5 2 7 9 8 1 9 7 2 0 9 4 9 5 4 6 5 6 0 6 1 1 0 9 3\n",
            " 0]\n",
            "Dev Set Accuracy: 0.827\n"
          ]
        }
      ]
    },
    {
      "cell_type": "code",
      "source": [
        "from sklearn.metrics import confusion_matrix, classification_report\n",
        "\n",
        "print(confusion_matrix(y_dev, predictions_dev))\n",
        "print(classification_report(y_dev, predictions_dev))\n"
      ],
      "metadata": {
        "colab": {
          "base_uri": "https://localhost:8080/"
        },
        "id": "KL-xsbjbTFyE",
        "outputId": "15d751d9-8544-4566-f97a-d901cb0bf700"
      },
      "execution_count": 94,
      "outputs": [
        {
          "output_type": "stream",
          "name": "stdout",
          "text": [
            "[[94  0  1  1  0  3  1  0  1  0]\n",
            " [ 0 98  2  0  0  1  0  0  3  0]\n",
            " [ 2  2 78  4  3  2  2  2  8  0]\n",
            " [ 1  0  4 80  0  9  0  7  0  2]\n",
            " [ 0  0  0  0 81  0  3  1  0  6]\n",
            " [ 1  3  0  5  3 62  5  0  7  1]\n",
            " [ 2  0  3  0  2  0 82  0  1  0]\n",
            " [ 0  2  0  0  1  0  0 96  2 10]\n",
            " [ 1  1  3  8  0  8  1  0 68  5]\n",
            " [ 0  1  0  1 11  0  0 10  4 88]]\n",
            "              precision    recall  f1-score   support\n",
            "\n",
            "           0       0.93      0.93      0.93       101\n",
            "           1       0.92      0.94      0.93       104\n",
            "           2       0.86      0.76      0.80       103\n",
            "           3       0.81      0.78      0.79       103\n",
            "           4       0.80      0.89      0.84        91\n",
            "           5       0.73      0.71      0.72        87\n",
            "           6       0.87      0.91      0.89        90\n",
            "           7       0.83      0.86      0.85       111\n",
            "           8       0.72      0.72      0.72        95\n",
            "           9       0.79      0.77      0.78       115\n",
            "\n",
            "    accuracy                           0.83      1000\n",
            "   macro avg       0.83      0.83      0.83      1000\n",
            "weighted avg       0.83      0.83      0.83      1000\n",
            "\n"
          ]
        }
      ]
    },
    {
      "cell_type": "code",
      "source": [],
      "metadata": {
        "id": "WQPHt2qQTK1E"
      },
      "execution_count": null,
      "outputs": []
    }
  ]
}